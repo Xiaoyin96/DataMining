{
 "cells": [
  {
   "cell_type": "markdown",
   "metadata": {
    "nbgrader": {
     "grade": false,
     "grade_id": "cell-c488eea0e3fe8f2e",
     "locked": true,
     "schema_version": 1,
     "solution": false
    }
   },
   "source": [
    "# Introduction: determining stock sector from stock behaviour\n",
    "\n",
    "In the next notebook you will be given the history of stock prices for anonymous stocks and we will use a combination of PCA and Boosting to assign each stock to it's most likely sector. If you are new to stock price analysis this might seem like complete magic. However, as we you will see, the predictions are based on a common sense understanding of the behaviour of stock prices. Much of the analysis has been done, your job is to fill in the missing parts correctly.\n",
    "\n",
    "* In this notebook we will focus on preparing informative features using PCA.\n",
    "* In the next notebook we will use Boosted decision trees to predict the sector from the values of the features."
   ]
  },
  {
   "cell_type": "markdown",
   "metadata": {
    "nbgrader": {
     "grade": false,
     "grade_id": "cell-ea36536389602803",
     "locked": true,
     "schema_version": 1,
     "solution": false
    }
   },
   "source": [
    "### Create a Spark context and import dependencies"
   ]
  },
  {
   "cell_type": "code",
   "execution_count": 2,
   "metadata": {
    "ExecuteTime": {
     "end_time": "2018-07-12T12:17:27.649997Z",
     "start_time": "2018-07-12T12:17:23.398974Z"
    },
    "nbgrader": {
     "grade": false,
     "grade_id": "cell-9104933a047ed52e",
     "locked": true,
     "schema_version": 1,
     "solution": false
    },
    "run_control": {
     "frozen": false,
     "read_only": false
    }
   },
   "outputs": [
    {
     "name": "stdout",
     "output_type": "stream",
     "text": [
      "Populating the interactive namespace from numpy and matplotlib\n"
     ]
    }
   ],
   "source": [
    "import findspark\n",
    "findspark.init()\n",
    "\n",
    "import pyspark\n",
    "from pyspark import SparkContext\n",
    "\n",
    "sc = SparkContext(master=\"local[6]\",pyFiles=['lib/spark_PCA.py'])\n",
    "\n",
    "from pyspark.sql import *\n",
    "sqlContext = SQLContext(sc)\n",
    "\n",
    "%pylab inline\n",
    "import sys\n",
    "sys.path.append('./lib')\n",
    "\n",
    "import numpy as np\n",
    "import pickle\n",
    "\n",
    "from spark_PCA import computeCov"
   ]
  },
  {
   "cell_type": "markdown",
   "metadata": {
    "nbgrader": {
     "grade": false,
     "grade_id": "cell-8086f0d75a4820ca",
     "locked": true,
     "schema_version": 1,
     "solution": false
    }
   },
   "source": [
    "### Read data\n",
    "\n",
    "Read the file `SP500.csv` into a `Spark` dataframe."
   ]
  },
  {
   "cell_type": "code",
   "execution_count": 3,
   "metadata": {
    "ExecuteTime": {
     "end_time": "2018-07-03T21:12:00.442623Z",
     "start_time": "2018-07-03T21:11:52.943727Z"
    },
    "nbgrader": {
     "grade": false,
     "grade_id": "cell-d70d5d7acd69f308",
     "locked": true,
     "schema_version": 1,
     "solution": false
    },
    "run_control": {
     "frozen": false,
     "read_only": false
    }
   },
   "outputs": [],
   "source": [
    "# read the file in a dataframe.\n",
    "df=sqlContext.read.csv('data/SP500.csv',header='true',inferSchema='true')\n",
    "columns=df.columns\n",
    "col=[c for c in columns if '_D' in c]"
   ]
  },
  {
   "cell_type": "markdown",
   "metadata": {
    "nbgrader": {
     "grade": false,
     "grade_id": "cell-76d403dc01c3f142",
     "locked": true,
     "schema_version": 1,
     "solution": false
    }
   },
   "source": [
    "### Visualize using Pandas\n",
    "To visualize the data we transform the `Spark` DataFrame to a `pandas` DataFrame. \n",
    "\n",
    "(((You don't need to know pandas to complete this final. However, if you are interested, you can take the first class in this micro-masters: DSE200x: Python for data analysis.)))"
   ]
  },
  {
   "cell_type": "code",
   "execution_count": 4,
   "metadata": {
    "ExecuteTime": {
     "end_time": "2018-07-03T21:12:09.923970Z",
     "start_time": "2018-07-03T21:12:00.444696Z"
    },
    "nbgrader": {
     "grade": false,
     "grade_id": "cell-3b034697aa01f27e",
     "locked": true,
     "schema_version": 1,
     "solution": false
    },
    "run_control": {
     "frozen": false,
     "read_only": false
    }
   },
   "outputs": [
    {
     "data": {
      "text/html": [
       "<div>\n",
       "<style scoped>\n",
       "    .dataframe tbody tr th:only-of-type {\n",
       "        vertical-align: middle;\n",
       "    }\n",
       "\n",
       "    .dataframe tbody tr th {\n",
       "        vertical-align: top;\n",
       "    }\n",
       "\n",
       "    .dataframe thead th {\n",
       "        text-align: right;\n",
       "    }\n",
       "</style>\n",
       "<table border=\"1\" class=\"dataframe\">\n",
       "  <thead>\n",
       "    <tr style=\"text-align: right;\">\n",
       "      <th></th>\n",
       "      <th>train/AAPL_D</th>\n",
       "      <th>train/AAPL_P</th>\n",
       "      <th>train/ABC_D</th>\n",
       "      <th>train/ABC_P</th>\n",
       "      <th>train/ABT_D</th>\n",
       "      <th>train/ABT_P</th>\n",
       "      <th>train/ACN_D</th>\n",
       "      <th>train/ACN_P</th>\n",
       "      <th>train/ADBE_D</th>\n",
       "      <th>train/ADBE_P</th>\n",
       "      <th>...</th>\n",
       "      <th>test/86_D</th>\n",
       "      <th>test/86_P</th>\n",
       "      <th>test/87_D</th>\n",
       "      <th>test/87_P</th>\n",
       "      <th>test/88_D</th>\n",
       "      <th>test/88_P</th>\n",
       "      <th>test/8_D</th>\n",
       "      <th>test/8_P</th>\n",
       "      <th>test/9_D</th>\n",
       "      <th>test/9_P</th>\n",
       "    </tr>\n",
       "    <tr>\n",
       "      <th>Date</th>\n",
       "      <th></th>\n",
       "      <th></th>\n",
       "      <th></th>\n",
       "      <th></th>\n",
       "      <th></th>\n",
       "      <th></th>\n",
       "      <th></th>\n",
       "      <th></th>\n",
       "      <th></th>\n",
       "      <th></th>\n",
       "      <th></th>\n",
       "      <th></th>\n",
       "      <th></th>\n",
       "      <th></th>\n",
       "      <th></th>\n",
       "      <th></th>\n",
       "      <th></th>\n",
       "      <th></th>\n",
       "      <th></th>\n",
       "      <th></th>\n",
       "      <th></th>\n",
       "    </tr>\n",
       "  </thead>\n",
       "  <tbody>\n",
       "    <tr>\n",
       "      <th>2015-04-13</th>\n",
       "      <td>-0.010730</td>\n",
       "      <td>128.37</td>\n",
       "      <td>-0.008448</td>\n",
       "      <td>115.31</td>\n",
       "      <td>-0.005788</td>\n",
       "      <td>46.78</td>\n",
       "      <td>-0.008195</td>\n",
       "      <td>94.34</td>\n",
       "      <td>-0.005510</td>\n",
       "      <td>76.44</td>\n",
       "      <td>...</td>\n",
       "      <td>-0.003119</td>\n",
       "      <td>41.74</td>\n",
       "      <td>-0.012336</td>\n",
       "      <td>39.15</td>\n",
       "      <td>NaN</td>\n",
       "      <td>NaN</td>\n",
       "      <td>-0.004147</td>\n",
       "      <td>72.50</td>\n",
       "      <td>-0.004290</td>\n",
       "      <td>84.10</td>\n",
       "    </tr>\n",
       "    <tr>\n",
       "      <th>2015-04-14</th>\n",
       "      <td>-0.004656</td>\n",
       "      <td>127.00</td>\n",
       "      <td>-0.001225</td>\n",
       "      <td>114.34</td>\n",
       "      <td>0.006430</td>\n",
       "      <td>46.51</td>\n",
       "      <td>0.007453</td>\n",
       "      <td>93.57</td>\n",
       "      <td>0.000920</td>\n",
       "      <td>76.02</td>\n",
       "      <td>...</td>\n",
       "      <td>0.015264</td>\n",
       "      <td>41.61</td>\n",
       "      <td>0.019970</td>\n",
       "      <td>38.67</td>\n",
       "      <td>NaN</td>\n",
       "      <td>NaN</td>\n",
       "      <td>0.002490</td>\n",
       "      <td>72.20</td>\n",
       "      <td>-0.000956</td>\n",
       "      <td>83.74</td>\n",
       "    </tr>\n",
       "    <tr>\n",
       "      <th>2015-04-15</th>\n",
       "      <td>-0.001029</td>\n",
       "      <td>126.41</td>\n",
       "      <td>-0.006942</td>\n",
       "      <td>114.20</td>\n",
       "      <td>-0.004282</td>\n",
       "      <td>46.81</td>\n",
       "      <td>-0.003826</td>\n",
       "      <td>94.27</td>\n",
       "      <td>-0.008977</td>\n",
       "      <td>76.09</td>\n",
       "      <td>...</td>\n",
       "      <td>0.000946</td>\n",
       "      <td>42.25</td>\n",
       "      <td>0.013845</td>\n",
       "      <td>39.45</td>\n",
       "      <td>NaN</td>\n",
       "      <td>NaN</td>\n",
       "      <td>0.001381</td>\n",
       "      <td>72.38</td>\n",
       "      <td>-0.007920</td>\n",
       "      <td>83.66</td>\n",
       "    </tr>\n",
       "  </tbody>\n",
       "</table>\n",
       "<p>3 rows × 962 columns</p>\n",
       "</div>"
      ],
      "text/plain": [
       "            train/AAPL_D  train/AAPL_P  train/ABC_D  train/ABC_P  train/ABT_D  \\\n",
       "Date                                                                            \n",
       "2015-04-13     -0.010730        128.37    -0.008448       115.31    -0.005788   \n",
       "2015-04-14     -0.004656        127.00    -0.001225       114.34     0.006430   \n",
       "2015-04-15     -0.001029        126.41    -0.006942       114.20    -0.004282   \n",
       "\n",
       "            train/ABT_P  train/ACN_D  train/ACN_P  train/ADBE_D  train/ADBE_P  \\\n",
       "Date                                                                            \n",
       "2015-04-13        46.78    -0.008195        94.34     -0.005510         76.44   \n",
       "2015-04-14        46.51     0.007453        93.57      0.000920         76.02   \n",
       "2015-04-15        46.81    -0.003826        94.27     -0.008977         76.09   \n",
       "\n",
       "            ...  test/86_D  test/86_P  test/87_D  test/87_P  test/88_D  \\\n",
       "Date        ...                                                          \n",
       "2015-04-13  ...  -0.003119      41.74  -0.012336      39.15        NaN   \n",
       "2015-04-14  ...   0.015264      41.61   0.019970      38.67        NaN   \n",
       "2015-04-15  ...   0.000946      42.25   0.013845      39.45        NaN   \n",
       "\n",
       "            test/88_P  test/8_D  test/8_P  test/9_D  test/9_P  \n",
       "Date                                                           \n",
       "2015-04-13        NaN -0.004147     72.50 -0.004290     84.10  \n",
       "2015-04-14        NaN  0.002490     72.20 -0.000956     83.74  \n",
       "2015-04-15        NaN  0.001381     72.38 -0.007920     83.66  \n",
       "\n",
       "[3 rows x 962 columns]"
      ]
     },
     "execution_count": 4,
     "metadata": {},
     "output_type": "execute_result"
    }
   ],
   "source": [
    "Diffs=df.toPandas()\n",
    "Diffs=Diffs.set_index('Date')\n",
    "Diffs.tail(3)"
   ]
  },
  {
   "cell_type": "markdown",
   "metadata": {},
   "source": [
    "### Explanation of the table\n",
    "* The rows of the table are indexed by date. Starting in 1962, a time when most of the stocks we are tracking did not exist, and ending in 2015.\n",
    "* The columns come in pairs `XXX/YYY_P` and `XXX/YYY_D`. The prefix `XXX = train` for stocks whose *ticker* is `YYY` or  `XXX=test` for stocks whose ticker (and sector) are hidden. `YYY` for test columns is an integer index.\n",
    "   * The columns ending with `_P` give the **Adjusted Open Price** of stocks, which are the prices when the stock exchange opens in the morning. We use the **adjusted** prices which eliminate technical adjustments such as stock splits.\n",
    "   * The columns ending with `_D` are the log price ratio, as described below\n",
    "\n"
   ]
  },
  {
   "cell_type": "markdown",
   "metadata": {
    "nbgrader": {
     "grade": false,
     "grade_id": "cell-f1d1eaea8944f4d0",
     "locked": true,
     "schema_version": 1,
     "solution": false
    }
   },
   "source": [
    "### A naive plot of stocks.\n",
    "To get started, we plot the stock prices."
   ]
  },
  {
   "cell_type": "code",
   "execution_count": 5,
   "metadata": {
    "ExecuteTime": {
     "end_time": "2018-07-03T21:12:10.450201Z",
     "start_time": "2018-07-03T21:12:09.926117Z"
    },
    "nbgrader": {
     "grade": false,
     "grade_id": "cell-047324faed918424",
     "locked": true,
     "schema_version": 1,
     "solution": false
    },
    "run_control": {
     "frozen": false,
     "read_only": false
    },
    "scrolled": false
   },
   "outputs": [
    {
     "data": {
      "image/png": "[encoded data removed]",
      "text/plain": [
       "<matplotlib.figure.Figure at 0x11b5bee80>"
      ]
     },
     "metadata": {
      "needs_background": "light"
     },
     "output_type": "display_data"
    }
   ],
   "source": [
    "# plot some stocks\n",
    "Diffs[['train/AAPL_P','train/MSFT_P','train/IBM_P','test/8_P']].plot(figsize=(14,10));\n",
    "plt.grid()"
   ]
  },
  {
   "cell_type": "markdown",
   "metadata": {
    "nbgrader": {
     "grade": false,
     "grade_id": "cell-37bb18df67b4d53d",
     "locked": true,
     "schema_version": 1,
     "solution": false
    }
   },
   "source": [
    "### A few observations\n",
    "\n",
    "* Most of the stock grow over the long term, however, on the short term, their prices fluctuate significantly.\n",
    "* Suppose $p_s(t)$ is the price of stock $s$ on day $t$. It does not make much sense to consider **additive** changes to the stock price: $p(t+1)-p(t)$ becuase the changes in price of, say **IBM** around 1980 is much smaller than than change of the same stock around 2010. Instead, it makes more sense to consider the **relative** change in prices: $\\frac{p(t+1)}{p(t)}$.\n",
    "* As it is convenient to make the price changes **additive** it makes sense to replace $\\frac{p(t+1)}{p(t)}$ with $\\log\\frac{p(t+1)}{p(t)}$.\n",
    "   * This allows us to write $\\frac{p(t+k)}{p(t)} = \\sum_{i=1}^k \\log \\frac{p(t+i)}{p(t+i-1)}$\n",
    "* Unlike the price, whose value can change a lot between different times. The **log price ratio** $\\log\\frac{p(t+1)}{p(t)}$ is always close to zero: it is slightly above 0 if the price increased on a particular day and is slightly negative if it decreased.\n",
    "\n",
    "To strengthen your intuition in this regard, consider **Black Monday**:"
   ]
  },
  {
   "cell_type": "markdown",
   "metadata": {
    "nbgrader": {
     "grade": false,
     "grade_id": "cell-604c27111b0a3cd9",
     "locked": true,
     "schema_version": 1,
     "solution": false
    }
   },
   "source": [
    "### Black Monday\n",
    "\n",
    "One of the biggest crashes in the US stock market happened on\n",
    "**Black Monday:** Oct 19 1987  \n",
    "\n",
    "We will look at the stocks around that date"
   ]
  },
  {
   "cell_type": "code",
   "execution_count": 6,
   "metadata": {
    "ExecuteTime": {
     "end_time": "2018-07-03T21:12:10.830237Z",
     "start_time": "2018-07-03T21:12:10.453128Z"
    },
    "nbgrader": {
     "grade": false,
     "grade_id": "cell-8cbcc2dcc722d00b",
     "locked": true,
     "schema_version": 1,
     "solution": false
    },
    "scrolled": false
   },
   "outputs": [
    {
     "data": {
      "image/png": "[encoded data removed]",
      "text/plain": [
       "<matplotlib.figure.Figure at 0x11ef2ac18>"
      ]
     },
     "metadata": {
      "needs_background": "light"
     },
     "output_type": "display_data"
    }
   ],
   "source": [
    "#Focus on \"Black Monday:\" the stock crash of Oct 19 1987\n",
    "\n",
    "import datetime\n",
    "format = \"%b-%d-%Y\"\n",
    "\n",
    "_from = datetime.datetime.strptime('Sep-1-1987', format)\n",
    "_to = datetime.datetime.strptime('Nov-30-1987', format)\n",
    "\n",
    "Diffs.loc[_from:_to,['train/AAPL_P','train/MSFT_P','train/IBM_P']].plot(figsize=(14,10));\n",
    "plt.grid()"
   ]
  },
  {
   "cell_type": "markdown",
   "metadata": {
    "nbgrader": {
     "grade": false,
     "grade_id": "cell-219d3cea8848b4bc",
     "locked": true,
     "schema_version": 1,
     "solution": false
    }
   },
   "source": [
    "**Why does it seems that the price of IBM fell much more than those of Apple and microsoft?**\n",
    "\n",
    "Because IBM's price started so much higher. As explained above it is more informative to consider $\\log\\frac{p(t+1)}{p(t)}$"
   ]
  },
  {
   "cell_type": "code",
   "execution_count": 7,
   "metadata": {
    "ExecuteTime": {
     "end_time": "2018-07-03T21:12:11.259519Z",
     "start_time": "2018-07-03T21:12:10.833650Z"
    },
    "nbgrader": {
     "grade": false,
     "grade_id": "cell-81988839544a8261",
     "locked": true,
     "schema_version": 1,
     "solution": false
    },
    "scrolled": false
   },
   "outputs": [
    {
     "data": {
      "image/png": "[encoded data removed]",
      "text/plain": [
       "<matplotlib.figure.Figure at 0x11b5befd0>"
      ]
     },
     "metadata": {
      "needs_background": "light"
     },
     "output_type": "display_data"
    }
   ],
   "source": [
    "Diffs.loc[_from:_to,['train/AAPL_D','train/MSFT_D','train/IBM_D']].plot(figsize=(14,10));\n",
    "plt.grid()"
   ]
  },
  {
   "cell_type": "markdown",
   "metadata": {
    "nbgrader": {
     "grade": false,
     "grade_id": "cell-6fd64211a40d2d77",
     "locked": true,
     "schema_version": 1,
     "solution": false
    }
   },
   "source": [
    "**Observe:** while it is hard to see the effect of the crash when considering the actual prices, plotting the log price ratio makes it clear that On october 19 all stocks went down significantly. Moreover, if you look at surrounding dates, indeed, if you look at **any** dates, you see that the price changes are highly correlated with each other, which, as we will explained below, is the rationale behind using **PCA** to relate the stocks.\n",
    "\n",
    "Interestingly, the stocks regained most of the loss in the on Oct 20th, which shows that it is never a good idea to sell at a panic. *However* it is also not true that the stock market came back to where it was before the crash, that took much longer."
   ]
  },
  {
   "cell_type": "markdown",
   "metadata": {
    "nbgrader": {
     "grade": false,
     "grade_id": "cell-a778ed432c947e28",
     "locked": true,
     "schema_version": 1,
     "solution": false
    }
   },
   "source": [
    "## Analysis of stock prices using Principal Component Analysis \n",
    "As you observe in the graphs above, the stock prices around black monday are highly correlated. This is hardly surprising, as that was a day where traders, and the public at large, have lost faith in the market and, in their panic, tried to sell their stocks, creating a snowball effect.\n",
    "\n",
    "Luckily, such crashes are rare. However, the stock market is always volatile. The market reacts quickly to news and reflects their expected effect in the stock prices. Importantly, different news affect different sectors of the market in different ways. News related to home construction will affect the price of Real-Estate based stocks which news regarding changes in health-care policy will affect the health-care industry.\n",
    "\n",
    "In fact **even without knowing what is the common cause** we can use the correlations between stocks to identify stocks that belong to the same sector. This is where **PCA** comes into play. Finding the dominant eigenvectors of the log-price-ratio number will allow us to map the stocks into a low dimensional space in which stocks with similar dependencies on outside factors will be close to each other."
   ]
  },
  {
   "cell_type": "markdown",
   "metadata": {
    "nbgrader": {
     "grade": false,
     "grade_id": "cell-81d9ffadf97fc476",
     "locked": true,
     "schema_version": 1,
     "solution": false
    }
   },
   "source": [
    "#### Read data\n",
    "\n",
    "Here, we read `Tickers.pkl` which is a dictionary with the keys: `Tickers` and `TickerInfo`. \n",
    "\n",
    "`Tickers` contains the ticker names and `TickerInfo` is a Pandas dataframe containing Company name, Sector and SectorID for each ticker.\n",
    "\n",
    "We will use this table in the second notebook to define the label (sector) for each of the training stocks."
   ]
  },
  {
   "cell_type": "code",
   "execution_count": 8,
   "metadata": {
    "ExecuteTime": {
     "end_time": "2018-07-03T21:12:11.284863Z",
     "start_time": "2018-07-03T21:12:11.262123Z"
    },
    "nbgrader": {
     "grade": false,
     "grade_id": "cell-3c8c6e7dcf4b6fd8",
     "locked": true,
     "schema_version": 1,
     "solution": false
    }
   },
   "outputs": [
    {
     "data": {
      "text/html": [
       "<div>\n",
       "<style scoped>\n",
       "    .dataframe tbody tr th:only-of-type {\n",
       "        vertical-align: middle;\n",
       "    }\n",
       "\n",
       "    .dataframe tbody tr th {\n",
       "        vertical-align: top;\n",
       "    }\n",
       "\n",
       "    .dataframe thead th {\n",
       "        text-align: right;\n",
       "    }\n",
       "</style>\n",
       "<table border=\"1\" class=\"dataframe\">\n",
       "  <thead>\n",
       "    <tr style=\"text-align: right;\">\n",
       "      <th></th>\n",
       "      <th>Unnamed: 0</th>\n",
       "      <th>Ticker</th>\n",
       "      <th>Name</th>\n",
       "      <th>Sector</th>\n",
       "      <th>SECTOR_ID</th>\n",
       "    </tr>\n",
       "  </thead>\n",
       "  <tbody>\n",
       "    <tr>\n",
       "      <th>0</th>\n",
       "      <td>0</td>\n",
       "      <td>MMM</td>\n",
       "      <td>3M|3M Company</td>\n",
       "      <td>Industrials</td>\n",
       "      <td>INDS</td>\n",
       "    </tr>\n",
       "    <tr>\n",
       "      <th>1</th>\n",
       "      <td>1</td>\n",
       "      <td>ABT</td>\n",
       "      <td>Abbott Laboratories</td>\n",
       "      <td>Health Care</td>\n",
       "      <td>HC</td>\n",
       "    </tr>\n",
       "    <tr>\n",
       "      <th>2</th>\n",
       "      <td>2</td>\n",
       "      <td>ABBV</td>\n",
       "      <td>AbbVie Inc.</td>\n",
       "      <td>Health Care</td>\n",
       "      <td>HC</td>\n",
       "    </tr>\n",
       "    <tr>\n",
       "      <th>3</th>\n",
       "      <td>3</td>\n",
       "      <td>ACN</td>\n",
       "      <td>Accenture plc</td>\n",
       "      <td>Information Technology</td>\n",
       "      <td>IT</td>\n",
       "    </tr>\n",
       "    <tr>\n",
       "      <th>4</th>\n",
       "      <td>4</td>\n",
       "      <td>ATVI</td>\n",
       "      <td>Activision Blizzard</td>\n",
       "      <td>Information Technology</td>\n",
       "      <td>IT</td>\n",
       "    </tr>\n",
       "  </tbody>\n",
       "</table>\n",
       "</div>"
      ],
      "text/plain": [
       "   Unnamed: 0 Ticker                 Name                  Sector SECTOR_ID\n",
       "0           0    MMM        3M|3M Company             Industrials      INDS\n",
       "1           1    ABT  Abbott Laboratories             Health Care        HC\n",
       "2           2   ABBV          AbbVie Inc.             Health Care        HC\n",
       "3           3    ACN        Accenture plc  Information Technology        IT\n",
       "4           4   ATVI  Activision Blizzard  Information Technology        IT"
      ]
     },
     "execution_count": 8,
     "metadata": {},
     "output_type": "execute_result"
    }
   ],
   "source": [
    "import pandas as pd\n",
    "TickerInfo=pd.read_csv('data/tickerInfo.tsv',sep='\\t')\n",
    "TickerInfo.head(5)"
   ]
  },
  {
   "cell_type": "markdown",
   "metadata": {
    "nbgrader": {
     "grade": false,
     "grade_id": "cell-4fa7163d08b209bf",
     "locked": true,
     "schema_version": 1,
     "solution": false
    }
   },
   "source": [
    "### Partition Columns"
   ]
  },
  {
   "cell_type": "code",
   "execution_count": 9,
   "metadata": {
    "ExecuteTime": {
     "end_time": "2018-07-03T21:12:11.302206Z",
     "start_time": "2018-07-03T21:12:11.287437Z"
    },
    "nbgrader": {
     "grade": false,
     "grade_id": "cell-3af42f32ef931bce",
     "locked": true,
     "schema_version": 1,
     "solution": false
    },
    "run_control": {
     "frozen": false,
     "read_only": false
    }
   },
   "outputs": [],
   "source": [
    "#Extract the price/ratio columns(ending with _D)\n",
    "#and partition those columns of df into a training set and a test set, each sorted alphabetically.\n",
    "def partition_columns(df):\n",
    "    train_col=[]\n",
    "    test_col=[]\n",
    "    columns=df.columns\n",
    "    col=[c for c in columns if '_D' in c]\n",
    "    for i in range(len(col)):\n",
    "        if 'train' in col[i]:\n",
    "            train_col.append(col[i])\n",
    "        else:\n",
    "            test_col.append(col[i])\n",
    "    train_col = sorted(train_col)\n",
    "    test_col=sorted(test_col)\n",
    "    return  train_col+test_col"
   ]
  },
  {
   "cell_type": "code",
   "execution_count": 15,
   "metadata": {
    "ExecuteTime": {
     "end_time": "2018-07-03T21:12:12.594567Z",
     "start_time": "2018-07-03T21:12:11.305627Z"
    },
    "nbgrader": {
     "grade": false,
     "grade_id": "cell-f188a91e4134fbd2",
     "locked": true,
     "schema_version": 1,
     "solution": false
    }
   },
   "outputs": [],
   "source": [
    "columns = partition_columns(df)\n",
    "df=df.select(columns)"
   ]
  },
  {
   "cell_type": "markdown",
   "metadata": {
    "nbgrader": {
     "grade": false,
     "grade_id": "cell-ebe1696b433c3deb",
     "locked": true,
     "schema_version": 1,
     "solution": false
    }
   },
   "source": [
    "### Create an RDD of numpy arrays\n",
    "In order to use the module `lib/spark_PCA.py` you need to transform the dataframe `df` into an RDD of numpy vectors."
   ]
  },
  {
   "cell_type": "markdown",
   "metadata": {
    "nbgrader": {
     "grade": false,
     "grade_id": "cell-5d52f87472895335",
     "locked": true,
     "schema_version": 1,
     "solution": false
    }
   },
   "source": [
    "#### Function `make_array`\n",
    "Complete the function `make_array(row)` that takes as input a row of `df` and returns a numpy array (`dtype=np.float64`) that contains the values stored in the `col` firelds of the Row. Use `np.nan_to_num` to transform `nan`s into zeros.\n",
    "\n",
    "* Direct Input: A row of real values\n",
    "* Indirect input: col - defines the columns of df that are to be used.,\n",
    "\n",
    "* Output: numpy array of diff columns"
   ]
  },
  {
   "cell_type": "code",
   "execution_count": 46,
   "metadata": {
    "ExecuteTime": {
     "end_time": "2018-07-03T21:12:12.603810Z",
     "start_time": "2018-07-03T21:12:12.596785Z"
    },
    "nbgrader": {
     "grade": false,
     "grade_id": "cell-6f8a85c0251142bb",
     "locked": false,
     "schema_version": 1,
     "solution": true
    },
    "run_control": {
     "frozen": false,
     "read_only": false
    }
   },
   "outputs": [],
   "source": [
    "#the sequence of columns is define by the variable `col` in the immediate environment.\n",
    "def make_array(row):\n",
    "    #\n",
    "    # YOUR CODE HERE\n",
    "    #\n",
    "    x = np.asarray(row, dtype=np.float64)\n",
    "    array = np.nan_to_num(x)\n",
    "    \n",
    "    return array"
   ]
  },
  {
   "cell_type": "code",
   "execution_count": 47,
   "metadata": {
    "ExecuteTime": {
     "end_time": "2018-07-03T21:12:13.185995Z",
     "start_time": "2018-07-03T21:12:12.610009Z"
    },
    "nbgrader": {
     "grade": false,
     "grade_id": "cell-e08704345d19b533",
     "locked": true,
     "schema_version": 1,
     "solution": false
    }
   },
   "outputs": [],
   "source": [
    "#visible test\n",
    "row1_correct=pickle.load(open('data/row1.pkl','rb'))\n",
    "rows=df.take(2)\n",
    "col=columns\n",
    "row1=make_array(rows[1])\n",
    "assert (type(row1)==numpy.ndarray), \"make_array did not return the correct type\"\n",
    "assert (row1==row1_correct).all(),\"make_array did not return the correct array\""
   ]
  },
  {
   "cell_type": "markdown",
   "metadata": {
    "nbgrader": {
     "grade": false,
     "grade_id": "cell-8e1143ffe38682b2",
     "locked": true,
     "schema_version": 1,
     "solution": false
    }
   },
   "source": [
    "#### Create RDD\n",
    "Use `map` to create an RDD of the numpy arrays specified by the columns `columns`. The name of the RDD would be `Rows`. "
   ]
  },
  {
   "cell_type": "code",
   "execution_count": 53,
   "metadata": {
    "ExecuteTime": {
     "end_time": "2018-07-03T21:12:13.385977Z",
     "start_time": "2018-07-03T21:12:13.188420Z"
    },
    "nbgrader": {
     "grade": false,
     "grade_id": "cell-cba648ce571a5240",
     "locked": false,
     "schema_version": 1,
     "solution": true
    }
   },
   "outputs": [],
   "source": [
    "#\n",
    "# YOUR CODE HERE\n",
    "#\n",
    "Rows= df.select(columns).rdd.map(make_array)"
   ]
  },
  {
   "cell_type": "code",
   "execution_count": 54,
   "metadata": {
    "ExecuteTime": {
     "end_time": "2018-07-03T21:12:14.046801Z",
     "start_time": "2018-07-03T21:12:13.388082Z"
    },
    "nbgrader": {
     "grade": true,
     "grade_id": "cell-8e787b229acad106",
     "locked": true,
     "points": 5,
     "schema_version": 1,
     "solution": false
    }
   },
   "outputs": [],
   "source": [
    "# TESTS\n",
    "rowf = Rows.first()\n",
    "assert type(Rows) == pyspark.rdd.PipelinedRDD, 'Incorrect return type'\n",
    "assert type(rowf) == numpy.ndarray, 'Incorrect return type'\n",
    "assert len(rowf) == 481, 'Incorrect dimensions'"
   ]
  },
  {
   "cell_type": "code",
   "execution_count": null,
   "metadata": {
    "ExecuteTime": {
     "end_time": "2018-07-03T21:12:14.046801Z",
     "start_time": "2018-07-03T21:12:13.388082Z"
    },
    "nbgrader": {
     "grade": true,
     "grade_id": "rowf_sum",
     "locked": true,
     "points": 5,
     "schema_version": 1,
     "solution": false
    }
   },
   "outputs": [],
   "source": [
    "#\n",
    "# AUTOGRADER TEST - DO NOT REMOVE\n",
    "#\n"
   ]
  },
  {
   "cell_type": "code",
   "execution_count": null,
   "metadata": {},
   "outputs": [],
   "source": []
  },
  {
   "cell_type": "markdown",
   "metadata": {
    "nbgrader": {
     "grade": false,
     "grade_id": "cell-567da89ebbbc06ab",
     "locked": true,
     "schema_version": 1,
     "solution": false
    }
   },
   "source": [
    "### Compute covariance matrix\n",
    "\n",
    "Here, we compute the covariance matrix of the data using `computeCov` in `spark_PCA.py`. The covariance matrix is of dimension `481 x 481`"
   ]
  },
  {
   "cell_type": "code",
   "execution_count": 55,
   "metadata": {
    "ExecuteTime": {
     "end_time": "2018-07-03T21:13:39.516312Z",
     "start_time": "2018-07-03T21:12:14.049503Z"
    },
    "nbgrader": {
     "grade": false,
     "grade_id": "cell-a182e3282bb297e5",
     "locked": true,
     "schema_version": 1,
     "solution": false
    },
    "run_control": {
     "frozen": false,
     "read_only": false
    },
    "scrolled": false
   },
   "outputs": [
    {
     "data": {
      "text/plain": [
       "dict_keys(['E', 'NE', 'O', 'NO', 'Cov', 'Mean', 'Var'])"
      ]
     },
     "execution_count": 55,
     "metadata": {},
     "output_type": "execute_result"
    }
   ],
   "source": [
    "OUT=computeCov(Rows)\n",
    "OUT.keys()"
   ]
  },
  {
   "cell_type": "markdown",
   "metadata": {
    "nbgrader": {
     "grade": false,
     "grade_id": "cell-3636f81a3847be2e",
     "locked": true,
     "schema_version": 1,
     "solution": false
    }
   },
   "source": [
    "### Computing eigenvalues and eigenvectors"
   ]
  },
  {
   "cell_type": "code",
   "execution_count": 56,
   "metadata": {
    "ExecuteTime": {
     "end_time": "2018-07-03T21:13:39.523946Z",
     "start_time": "2018-07-03T21:13:39.518390Z"
    },
    "nbgrader": {
     "grade": false,
     "grade_id": "cell-89514becc24a91ef",
     "locked": false,
     "schema_version": 1,
     "solution": true
    }
   },
   "outputs": [],
   "source": [
    "from numpy import linalg as LA\n",
    "def compute_eig(cov):\n",
    "    eigval,eigvec=LA.eigh(cov)\n",
    "    eigval=eigval[-1::-1] # reverse order\n",
    "    eigvec=eigvec[:,-1::-1]\n",
    "    return eigval, eigvec"
   ]
  },
  {
   "cell_type": "code",
   "execution_count": 57,
   "metadata": {
    "ExecuteTime": {
     "end_time": "2018-07-03T21:13:39.579412Z",
     "start_time": "2018-07-03T21:13:39.526121Z"
    },
    "nbgrader": {
     "grade": false,
     "grade_id": "cell-1c12761cbc573a32",
     "locked": true,
     "schema_version": 1,
     "solution": false
    }
   },
   "outputs": [],
   "source": [
    "eigval_all,eigvec_all = compute_eig(OUT['Cov'])"
   ]
  },
  {
   "cell_type": "markdown",
   "metadata": {
    "nbgrader": {
     "grade": false,
     "grade_id": "cell-82a6b97674fb07e6",
     "locked": true,
     "schema_version": 1,
     "solution": false
    }
   },
   "source": [
    "### Function `compute_PCA`\n",
    "\n",
    "Complete the function `compute_PCA` that takes as input a list of tickers and computes the eigenvalues and eigenvectors.\n",
    "\n",
    "Input: `tickers` - list of tickers\n",
    "\n",
    "Output: `eigval`, `eigvec` - numpy arrays of eigenvalues and eigenvectors\n",
    "\n",
    "Steps:\n",
    "1. Given a list of tickers, create an RDD of numpy arrays using the `make_array` function, similar to `Create RDD` section above.\n",
    "2. Using the `computeCov` function, compute the covariance matrix of the given list of tickers, similar to `Compute covariance matrix` section above. The object returned by `computeCov` is a dictionary with the `cov` key containing the covariance matrix.\n",
    "3. Using the `compute_eig` function, compute the eigenvalues and eigenvectors of the covariance matrix obtained in step2 and store them in `eigval` and `eigvec` respectively"
   ]
  },
  {
   "cell_type": "code",
   "execution_count": 61,
   "metadata": {
    "ExecuteTime": {
     "end_time": "2018-07-03T21:13:39.593504Z",
     "start_time": "2018-07-03T21:13:39.581734Z"
    },
    "nbgrader": {
     "grade": false,
     "grade_id": "cell-38db4ba6f0c9beff",
     "locked": false,
     "schema_version": 1,
     "solution": true
    }
   },
   "outputs": [],
   "source": [
    "def compute_PCA(tickers):\n",
    "    #\n",
    "    # YOUR CODE HERE\n",
    "    #\n",
    "    Rows = df.select(tickers).rdd.map(make_array)\n",
    "    OUT = computeCov(Rows)\n",
    "    eigval, eigvec = compute_eig(OUT['Cov'])\n",
    "    return eigval, eigvec"
   ]
  },
  {
   "cell_type": "code",
   "execution_count": 62,
   "metadata": {
    "ExecuteTime": {
     "end_time": "2018-07-03T21:13:47.880465Z",
     "start_time": "2018-07-03T21:13:39.596915Z"
    },
    "nbgrader": {
     "grade": false,
     "grade_id": "cell-ce7580d197d426cd",
     "locked": true,
     "schema_version": 1,
     "solution": false
    }
   },
   "outputs": [],
   "source": [
    "## Compute the PCA of the test vectors alone\n",
    "col = [c for c in columns if 'test' in c]\n",
    "eigval_test,eigvec_test=compute_PCA(col)"
   ]
  },
  {
   "cell_type": "code",
   "execution_count": 63,
   "metadata": {
    "ExecuteTime": {
     "end_time": "2018-07-03T21:13:47.888420Z",
     "start_time": "2018-07-03T21:13:47.883250Z"
    },
    "nbgrader": {
     "grade": true,
     "grade_id": "cell-cd516a08",
     "locked": true,
     "points": 5,
     "schema_version": 1,
     "solution": false
    }
   },
   "outputs": [],
   "source": [
    "np.testing.assert_almost_equal(eigvec_test.dot(eigvec_test.T), eye(89), err_msg=\"eigvec_test not orthonormal\")"
   ]
  },
  {
   "cell_type": "code",
   "execution_count": 64,
   "metadata": {
    "ExecuteTime": {
     "end_time": "2018-07-03T21:13:47.900033Z",
     "start_time": "2018-07-03T21:13:47.892271Z"
    },
    "nbgrader": {
     "grade": false,
     "grade_id": "cell-06b2dc73122e6565",
     "locked": true,
     "schema_version": 1,
     "solution": false
    }
   },
   "outputs": [],
   "source": [
    "eigval_c,eigvec_c=pickle.load(open('data/PCAtest1.pkl','rb'))"
   ]
  },
  {
   "cell_type": "code",
   "execution_count": null,
   "metadata": {
    "ExecuteTime": {
     "end_time": "2018-07-03T21:13:47.910390Z",
     "start_time": "2018-07-03T21:13:47.903295Z"
    },
    "nbgrader": {
     "grade": true,
     "grade_id": "eigvec_c_equal",
     "locked": true,
     "points": 5,
     "schema_version": 1,
     "solution": false
    }
   },
   "outputs": [],
   "source": [
    "#\n",
    "# AUTOGRADER TEST - DO NOT REMOVE\n",
    "#\n"
   ]
  },
  {
   "cell_type": "code",
   "execution_count": null,
   "metadata": {
    "ExecuteTime": {
     "end_time": "2018-07-03T21:13:54.364172Z",
     "start_time": "2018-07-03T21:13:47.913637Z"
    },
    "nbgrader": {
     "grade": true,
     "grade_id": "h_eig_type_size_check",
     "locked": true,
     "points": 10,
     "schema_version": 1,
     "solution": false
    }
   },
   "outputs": [],
   "source": [
    "# HIDDEN TESTS\n",
    "#\n",
    "# AUTOGRADER TEST - DO NOT REMOVE\n",
    "#\n"
   ]
  },
  {
   "cell_type": "code",
   "execution_count": null,
   "metadata": {
    "ExecuteTime": {
     "end_time": "2018-07-03T21:13:54.387095Z",
     "start_time": "2018-07-03T21:13:54.368921Z"
    },
    "nbgrader": {
     "grade": true,
     "grade_id": "h_eig_val_check",
     "locked": true,
     "points": 10,
     "schema_version": 1,
     "solution": false
    }
   },
   "outputs": [],
   "source": [
    "#\n",
    "# AUTOGRADER TEST - DO NOT REMOVE\n",
    "#\n"
   ]
  },
  {
   "cell_type": "markdown",
   "metadata": {
    "nbgrader": {
     "grade": false,
     "grade_id": "cell-6abc85913eb7503d",
     "locked": true,
     "schema_version": 1,
     "solution": false
    }
   },
   "source": [
    "### Compute percentage-of-variance explained graph\n",
    "\n",
    "In the cell below, write a function that plots the fraction of variance explained as a function of the number of top eigenvectors used. The function should return a numpy array where the value in location `i` is the fraction explained by the first `i+1` eigenvectors.\n",
    "\n",
    "You should get a figure similar to this:\n",
    "\n",
    "![percent-var-explained](figs/percentageOfVarianceExplained.png)\n",
    "\n",
    "Hint:\n",
    "1. Use the eigenvalues computed in `Compute eigenvalues and eigenvectors` section to plot the explained variance"
   ]
  },
  {
   "cell_type": "code",
   "execution_count": 68,
   "metadata": {
    "ExecuteTime": {
     "end_time": "2018-07-03T21:13:54.568229Z",
     "start_time": "2018-07-03T21:13:54.389477Z"
    },
    "nbgrader": {
     "grade": false,
     "grade_id": "cell-2269e44236228a7d",
     "locked": false,
     "schema_version": 1,
     "solution": true
    },
    "run_control": {
     "frozen": false,
     "read_only": false
    },
    "scrolled": true
   },
   "outputs": [
    {
     "name": "stdout",
     "output_type": "stream",
     "text": [
      "[0.2154120190244021, 0.25336645147606085, 0.27722061251724284, 0.29994765326266015, 0.31293976954789515]\n"
     ]
    }
   ],
   "source": [
    "def var_explained(eigval):\n",
    "    #\n",
    "    # YOUR CODE HERE\n",
    "    #\n",
    "    cum = []\n",
    "    val = 0\n",
    "    sum_eigval = np.sum(eigval)\n",
    "    for i in range(len(eigval)):\n",
    "        val = val + eigval[i]\n",
    "        percent = val/sum_eigval\n",
    "        cum.append(percent)\n",
    "    \n",
    "    return cum   \n",
    "\n",
    "cum=var_explained(eigval_all)\n",
    "print(cum[:5])"
   ]
  },
  {
   "cell_type": "code",
   "execution_count": null,
   "metadata": {},
   "outputs": [],
   "source": [
    "[0.21541202 0.25336645 0.27722061 0.29994765 0.31293977]"
   ]
  },
  {
   "cell_type": "code",
   "execution_count": 69,
   "metadata": {
    "ExecuteTime": {
     "end_time": "2018-07-03T21:20:59.093045Z",
     "start_time": "2018-07-03T21:20:59.086009Z"
    },
    "nbgrader": {
     "grade": true,
     "grade_id": "cell-7c43d82d8f0ab216",
     "locked": true,
     "points": 5,
     "schema_version": 1,
     "solution": false
    }
   },
   "outputs": [],
   "source": [
    "assert abs(cum[-1] - 1) < 1e-8, 'The fraction of the variance explained by all eigenvectors is one'\n",
    "for i in range(len(cum)-1):\n",
    "    assert cum[i]<=cum[i+1], \"cum cannot be decreasing\""
   ]
  },
  {
   "cell_type": "code",
   "execution_count": 74,
   "metadata": {},
   "outputs": [
    {
     "data": {
      "text/plain": [
       "[<matplotlib.lines.Line2D at 0x11c891ef0>]"
      ]
     },
     "execution_count": 74,
     "metadata": {},
     "output_type": "execute_result"
    },
    {
     "data": {
      "image/png": "[encoded data removed]",
      "text/plain": [
       "<matplotlib.figure.Figure at 0x119d2f908>"
      ]
     },
     "metadata": {
      "needs_background": "light"
     },
     "output_type": "display_data"
    }
   ],
   "source": [
    "plt.plot(range(50),cum[:50])"
   ]
  },
  {
   "cell_type": "code",
   "execution_count": null,
   "metadata": {
    "ExecuteTime": {
     "end_time": "2018-07-03T21:21:01.270180Z",
     "start_time": "2018-07-03T21:21:01.261184Z"
    },
    "nbgrader": {
     "grade": true,
     "grade_id": "cum_test",
     "locked": true,
     "points": 5,
     "schema_version": 1,
     "solution": false
    }
   },
   "outputs": [],
   "source": [
    "#\n",
    "# AUTOGRADER TEST - DO NOT REMOVE\n",
    "#\n"
   ]
  },
  {
   "cell_type": "markdown",
   "metadata": {
    "ExecuteTime": {
     "end_time": "2018-06-01T18:01:22.464524Z",
     "start_time": "2018-06-01T18:01:22.301431Z"
    },
    "nbgrader": {
     "grade": false,
     "grade_id": "cell-fb25805276b3d3e2",
     "locked": true,
     "schema_version": 1,
     "solution": false
    },
    "run_control": {
     "frozen": false,
     "read_only": false
    }
   },
   "source": [
    "### Saving the information for the next stage"
   ]
  },
  {
   "cell_type": "code",
   "execution_count": 75,
   "metadata": {
    "ExecuteTime": {
     "end_time": "2018-07-03T21:13:54.599593Z",
     "start_time": "2018-07-03T21:13:54.576809Z"
    },
    "nbgrader": {
     "grade": false,
     "grade_id": "cell-b0ec21c0512e05d0",
     "locked": true,
     "schema_version": 1,
     "solution": false
    }
   },
   "outputs": [
    {
     "data": {
      "text/plain": [
       "(481, (481, 481), (481,))"
      ]
     },
     "execution_count": 75,
     "metadata": {},
     "output_type": "execute_result"
    }
   ],
   "source": [
    "from pickle import dump\n",
    "dump({'columns':columns,\n",
    "     'eigvec':eigvec_all,\n",
    "     'eigval':eigval_all},\n",
    "    open('data/PCA.pickle','wb'))\n",
    "len(columns),eigvec_all.shape,eigval_all.shape"
   ]
  },
  {
   "cell_type": "markdown",
   "metadata": {
    "nbgrader": {
     "grade": false,
     "grade_id": "cell-9b16c4284ae872f1",
     "locked": true,
     "schema_version": 1,
     "solution": false
    }
   },
   "source": [
    "### Checking your calculations\n",
    "One good way to check your calculations is to create a scatter-plot projecting the data on two of the largest variance eigenvectors.\n",
    "\n",
    "In the directory `figs` you will find scatter plots corresponding to the six combinations of the top 4 eigenvectors.\n",
    "\n",
    "In these scatter-plots the ticker is replaced by the sector ID.\n",
    "\n",
    "Stocks from the same sector tend to have similar fluctuations. That is because they have similar sensitivities to costs (labor cost, energy) and profits (income distribution, holiday shopping). For example check out `figs/scatter.2.1.pdf` in which regions that are dominated by Finance, Energy or IT have been marked. \n",
    "\n",
    "In this section, you will create similar scatter plots and compare with those given. Your scatter-plots will be slightly different, because of the stocks you have eliminated, but spectral analysis is pretty robust, so your scatter plots should be quite similar (remember that the inverse of an eigenvector is also an eigenvector, so horizontal or vertical reflections of the scatter plot are meaningless)."
   ]
  },
  {
   "cell_type": "markdown",
   "metadata": {
    "nbgrader": {
     "grade": false,
     "grade_id": "cell-480542f47ce79198",
     "locked": true,
     "schema_version": 1,
     "solution": false
    }
   },
   "source": [
    "#### Map tickers to Sector IDs"
   ]
  },
  {
   "cell_type": "code",
   "execution_count": 76,
   "metadata": {
    "ExecuteTime": {
     "end_time": "2018-07-03T21:13:54.625765Z",
     "start_time": "2018-07-03T21:13:54.602385Z"
    },
    "nbgrader": {
     "grade": false,
     "grade_id": "cell-037bc5d39cd877b8",
     "locked": false,
     "schema_version": 1,
     "solution": true
    },
    "run_control": {
     "frozen": false,
     "read_only": false
    }
   },
   "outputs": [],
   "source": [
    "def map_sectorID(columns):\n",
    "    NN=TickerInfo[['Ticker','SECTOR_ID']]\n",
    "    Ticker2Sector={ a[1]:a[2] for a in NN.to_records()}\n",
    "    sectors=[]\n",
    "    unknown=known=0\n",
    "    for i in range(len(columns)):\n",
    "        ticker=columns[i]\n",
    "        if ticker[1] == 'r':\n",
    "            ticker = ticker[6:]\n",
    "        else:\n",
    "            ticker = ticker[5:]\n",
    "        ticker = ticker[:-2]\n",
    "        if ticker in Ticker2Sector:\n",
    "            sectors.append(Ticker2Sector[ticker])\n",
    "            known+=1\n",
    "        else:\n",
    "            sectors.append(ticker)\n",
    "            unknown+=1\n",
    "    return sectors, known, unknown"
   ]
  },
  {
   "cell_type": "code",
   "execution_count": 77,
   "metadata": {
    "ExecuteTime": {
     "end_time": "2018-07-03T21:13:54.638252Z",
     "start_time": "2018-07-03T21:13:54.628823Z"
    },
    "nbgrader": {
     "grade": false,
     "grade_id": "cell-38f2371baa71e48c",
     "locked": true,
     "schema_version": 1,
     "solution": false
    }
   },
   "outputs": [],
   "source": [
    "sectors, known, unknown = map_sectorID(columns)"
   ]
  },
  {
   "cell_type": "markdown",
   "metadata": {
    "nbgrader": {
     "grade": false,
     "grade_id": "cell-1f63936c591ef82b",
     "locked": true,
     "schema_version": 1,
     "solution": false
    }
   },
   "source": [
    "#### Generate Scatter plots\n",
    "\n",
    "Complete the function `Scatter_Stocks` to generate a scatter plot of the stocks on the given pair of eigenvectors. The function takes as input the indices of the two eigenvectors and generates a scatter plot of the data projected on the pair of eigenvectors.\n",
    "\n",
    "Input: <br>\n",
    "`eigvec` - Eigenvector<br>\n",
    "`eigval` - Eigenvalue<br>\n",
    "`i0`, `i1` - Eigenvector indices\n",
    "\n",
    "Example Input: i0=0, i1=2 (eigenvectors 0 and 2 - eigvec[:, 0] and eigvec[:, 2])\n",
    "\n",
    "Steps:\n",
    "1. Using the `plt.subplots` function, set the figure size to (20, 20) in order that the stock ticker names are readable. Store the objects returned by `plt.subplots` in `fig` and `ax`\n",
    "2. Set the X and Y axis limits to the minimum and maximum of the eigenvectors to be plotted on each axis using the `plt.xlim` and `plt.ylim` functions\n",
    "3. Label the axes as follows: Coeff 0, Coeff 1, using `plt.xlabel` and `plt.ylabel`\n",
    "4. for each ticker in `columns` that you generated in `Partition Columns` section, call the `ax.annotate` function in `matplotlib` using the `ax` object returned in `1` and annotate each point with the respective sectorID in `sectors`\n",
    "5. The figure in `fig` is then saved according to the command given "
   ]
  },
  {
   "cell_type": "code",
   "execution_count": 82,
   "metadata": {
    "ExecuteTime": {
     "end_time": "2018-07-03T21:13:54.662781Z",
     "start_time": "2018-07-03T21:13:54.640450Z"
    },
    "nbgrader": {
     "grade": false,
     "grade_id": "cell-78ed0210f4cccd7a",
     "locked": false,
     "schema_version": 1,
     "solution": true
    },
    "run_control": {
     "frozen": false,
     "read_only": false
    }
   },
   "outputs": [],
   "source": [
    "def Scatter_Stocks(eigval,eigvec,i0=0,i1=1):\n",
    "    fig, ax = plt.subplots(figsize=(20,20));  # In order that the stock ticker names are readable we make the plot very large\n",
    "    plt.xlim([np.amin(eigvec[:,i0]),np.amax(eigvec[:,i0])]);\n",
    "    plt.ylim([np.amin(eigvec[:,i1]),np.amax(eigvec[:,i1])]);\n",
    "    plt.title('SP500 stocks scatter on '+str(i0)+', '+str(i1),fontsize=20);\n",
    "    plt.xlabel('Coeff %d'%i0);\n",
    "    plt.ylabel('Coeff %d'%i1);\n",
    "    for i in range(len(columns)):\n",
    "        ax.annotate(sectors[i], (eigvec[i,i0],eigvec[i,i1]),fontsize=10);\n",
    "    \n",
    "    fig.savefig('figs/scatter.'+str(i0)+'.'+str(i1)+'.pdf', format='PDF');\n",
    "    # After exporting, we clear the figure so that the plot does not appear in the notebook.\n",
    "    fig.clear();\n",
    "    return None"
   ]
  },
  {
   "cell_type": "code",
   "execution_count": 83,
   "metadata": {
    "ExecuteTime": {
     "end_time": "2018-07-03T21:13:57.843956Z",
     "start_time": "2018-07-03T21:13:54.664617Z"
    },
    "nbgrader": {
     "grade": false,
     "grade_id": "cell-912da8ddd2163303",
     "locked": true,
     "schema_version": 1,
     "solution": false
    },
    "run_control": {
     "frozen": false,
     "read_only": false
    }
   },
   "outputs": [
    {
     "name": "stdout",
     "output_type": "stream",
     "text": [
      "1 0\n",
      "2 0\n",
      "2 1\n",
      "3 0\n",
      "3 1\n",
      "3 2\n"
     ]
    },
    {
     "data": {
      "text/plain": [
       "<matplotlib.figure.Figure at 0x11e2d9cc0>"
      ]
     },
     "metadata": {},
     "output_type": "display_data"
    },
    {
     "data": {
      "text/plain": [
       "<matplotlib.figure.Figure at 0x11d90a940>"
      ]
     },
     "metadata": {},
     "output_type": "display_data"
    },
    {
     "data": {
      "text/plain": [
       "<matplotlib.figure.Figure at 0x11da541d0>"
      ]
     },
     "metadata": {},
     "output_type": "display_data"
    },
    {
     "data": {
      "text/plain": [
       "<matplotlib.figure.Figure at 0x11d8f9e10>"
      ]
     },
     "metadata": {},
     "output_type": "display_data"
    },
    {
     "data": {
      "text/plain": [
       "<matplotlib.figure.Figure at 0x11d98dcc0>"
      ]
     },
     "metadata": {},
     "output_type": "display_data"
    },
    {
     "data": {
      "text/plain": [
       "<matplotlib.figure.Figure at 0x11d9856a0>"
      ]
     },
     "metadata": {},
     "output_type": "display_data"
    }
   ],
   "source": [
    "for i0 in range(4):\n",
    "    for i1 in range(i0):\n",
    "        print(i0,i1)\n",
    "        Scatter_Stocks(eigval_all,eigvec_all,i0,i1);"
   ]
  },
  {
   "cell_type": "markdown",
   "metadata": {
    "nbgrader": {
     "grade": false,
     "grade_id": "cell-439369809163e4f5",
     "locked": true,
     "schema_version": 1,
     "solution": false
    }
   },
   "source": [
    "## Check \n",
    "Check that your `figs/scatter.2.1.pdf` is similar to `figs/scatter.2.1.annotated.pdf`. Note that the orientation of the eigenvectors can be flipped."
   ]
  },
  {
   "cell_type": "markdown",
   "metadata": {},
   "source": [
    "Total points 50"
   ]
  }
 ],
 "metadata": {
  "anaconda-cloud": [],
  "kernelspec": {
   "display_name": "Python 3",
   "language": "python",
   "name": "python3"
  },
  "language_info": {
   "codemirror_mode": {
    "name": "ipython",
    "version": 3
   },
   "file_extension": ".py",
   "mimetype": "text/x-python",
   "name": "python",
   "nbconvert_exporter": "python",
   "pygments_lexer": "ipython3",
   "version": "3.6.4"
  },
  "toc": {
   "base_numbering": 1,
   "nav_menu": {
    "height": "12px",
    "width": "252px"
   },
   "number_sections": true,
   "sideBar": true,
   "skip_h1_title": false,
   "title_cell": "Table of Contents",
   "title_sidebar": "Contents",
   "toc_cell": false,
   "toc_position": [],
   "toc_section_display": "block",
   "toc_window_display": false
  },
  "varInspector": {
   "cols": {
    "lenName": 16,
    "lenType": 16,
    "lenVar": 40
   },
   "kernels_config": {
    "python": {
     "delete_cmd_postfix": "",
     "delete_cmd_prefix": "del ",
     "library": "var_list.py",
     "varRefreshCmd": "print(var_dic_list())"
    },
    "r": {
     "delete_cmd_postfix": ") ",
     "delete_cmd_prefix": "rm(",
     "library": "var_list.r",
     "varRefreshCmd": "cat(var_dic_list()) "
    }
   },
   "types_to_exclude": [
    "module",
    "function",
    "builtin_function_or_method",
    "instance",
    "_Feature"
   ],
   "window_display": false
  }
 },
 "nbformat": 4,
 "nbformat_minor": 2
}
